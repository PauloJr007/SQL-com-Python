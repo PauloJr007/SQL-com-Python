{
 "cells": [
  {
   "cell_type": "code",
   "execution_count": null,
   "metadata": {},
   "outputs": [],
   "source": [
    "# Importando as bibliotecas necessárias\n",
    "\n",
    "import pandas as pd # Para Manipulação dos Dados\n",
    "\n",
    "# Para se conectar no SQL SERVER\n",
    "import pyodbc as sql"
   ]
  },
  {
   "cell_type": "code",
   "execution_count": null,
   "metadata": {},
   "outputs": [],
   "source": [
    "# Conectando no Servidor - Servidor Local (SQL SERVER/SSMS)\n",
    "\n",
    "dados_conection = (\n",
    "    \"Driver={SQL SERVER};\"\n",
    "    \"Server=Servidor;\"\n",
    ")\n",
    "\n",
    "conexao = sql.connect(dados_conection)\n",
    "print(\"Funcionou\")"
   ]
  },
  {
   "cell_type": "code",
   "execution_count": 3,
   "metadata": {},
   "outputs": [],
   "source": [
    "# cursor para conseguir codificar em SQL\n",
    "cursor = conexao.cursor()"
   ]
  },
  {
   "cell_type": "code",
   "execution_count": null,
   "metadata": {},
   "outputs": [
    {
     "name": "stdout",
     "output_type": "stream",
     "text": [
      "Banco de Dados Criado!\n"
     ]
    }
   ],
   "source": [
    "# Criando o Banco de Dados\n",
    "\n",
    "nome_DB = 'FinanceX Solutions' # Nome fictício da empresa\n",
    "\n",
    "criacao_DB = f\"CREATE DATABASE [{nome_DB}]\"\n",
    "\n",
    "cursor.execute(criacao_DB)\n",
    "print(\"Banco de Dados Criado!\")"
   ]
  },
  {
   "cell_type": "code",
   "execution_count": 6,
   "metadata": {},
   "outputs": [
    {
     "name": "stdout",
     "output_type": "stream",
     "text": [
      "Usando o banco de dados FinanceX Solutions\n"
     ]
    }
   ],
   "source": [
    "# Selecionando o DB\n",
    "cursor.execute(f\"USE [{nome_DB}]\")\n",
    "print(f\"Usando o banco de dados {nome_DB}\")"
   ]
  },
  {
   "cell_type": "code",
   "execution_count": null,
   "metadata": {},
   "outputs": [
    {
     "name": "stdout",
     "output_type": "stream",
     "text": [
      "Tabela criada!\n"
     ]
    }
   ],
   "source": [
    "# Criando a tabela Clientes\n",
    "\n",
    "tabela1 = \"\"\"\n",
    "CREATE TABLE Clientes (\n",
    "    id_cliente INT PRIMARY KEY,\n",
    "    nome NVARCHAR(100),\n",
    "    email NVARCHAR(100),\n",
    "    telefone NVARCHAR(20),\n",
    "    empresa NVARCHAR(100)\n",
    ");\n",
    "\"\"\"\n",
    "\n",
    "cursor.execute(tabela1)\n",
    "conexao.commit()\n",
    "print(\"Tabela criada!\")"
   ]
  },
  {
   "cell_type": "code",
   "execution_count": null,
   "metadata": {},
   "outputs": [
    {
     "name": "stdout",
     "output_type": "stream",
     "text": [
      "Tabela criada\n"
     ]
    }
   ],
   "source": [
    "# Criando a tabela Faturas\n",
    "\n",
    "tabela2 = \"\"\"\n",
    "CREATE TABLE Faturas (\n",
    "    id_fatura INT PRIMARY KEY,\n",
    "    id_cliente INT,\n",
    "    data_emissao DATE,\n",
    "    data_vencimento DATE,\n",
    "    valor_total DECIMAL(10, 2),\n",
    "    status NVARCHAR(20),\n",
    "    FOREIGN KEY (id_cliente) REFERENCES Clientes(id_cliente)\n",
    ");\n",
    "\n",
    "\"\"\"\n",
    "\n",
    "cursor.execute(tabela2)\n",
    "conexao.commit()\n",
    "print(\"Tabela criada\")"
   ]
  },
  {
   "cell_type": "code",
   "execution_count": 32,
   "metadata": {},
   "outputs": [
    {
     "name": "stdout",
     "output_type": "stream",
     "text": [
      "Tabela criada\n"
     ]
    }
   ],
   "source": [
    "# Criando a tabela Pagamentos\n",
    "\n",
    "tabela3 = \"\"\"\n",
    "CREATE TABLE Pagamentos (\n",
    "    id_pagamento INT PRIMARY KEY,\n",
    "    id_fatura INT,\n",
    "    data_pagamento DATE,\n",
    "    valor_pago DECIMAL(10, 2),\n",
    "    metodo_pagamento NVARCHAR(50),\n",
    "    FOREIGN KEY (id_fatura) REFERENCES Faturas(id_fatura)\n",
    ");\n",
    "\n",
    "\"\"\"\n",
    "\n",
    "cursor.execute(tabela3)\n",
    "conexao.commit()\n",
    "print(\"Tabela criada\")"
   ]
  },
  {
   "cell_type": "code",
   "execution_count": 33,
   "metadata": {},
   "outputs": [
    {
     "name": "stdout",
     "output_type": "stream",
     "text": [
      "Tabela criada\n"
     ]
    }
   ],
   "source": [
    "# Criando a tabela Despesas\n",
    "\n",
    "tabela4 = \"\"\"\n",
    "CREATE TABLE Despesas (\n",
    "    id_despesa INT PRIMARY KEY,\n",
    "    categoria NVARCHAR(50),\n",
    "    descricao NVARCHAR(255),\n",
    "    valor DECIMAL(10, 2),\n",
    "    data_despesa DATE\n",
    ");\n",
    "\n",
    "\"\"\"\n",
    "\n",
    "cursor.execute(tabela4)\n",
    "conexao.commit()\n",
    "print(\"Tabela criada\")"
   ]
  },
  {
   "cell_type": "code",
   "execution_count": 34,
   "metadata": {},
   "outputs": [
    {
     "name": "stdout",
     "output_type": "stream",
     "text": [
      "Tabela criada\n"
     ]
    }
   ],
   "source": [
    "# Criando a tabela Receitas\n",
    "\n",
    "tabela5 = \"\"\"\n",
    "CREATE TABLE Receitas (\n",
    "    id_receita INT PRIMARY KEY,\n",
    "    id_cliente INT,\n",
    "    descricao NVARCHAR(255),\n",
    "    valor DECIMAL(10, 2),\n",
    "    data_recebimento DATE,\n",
    "    FOREIGN KEY (id_cliente) REFERENCES Clientes(id_cliente)\n",
    ");\n",
    "\n",
    "\"\"\"\n",
    "\n",
    "cursor.execute(tabela5)\n",
    "conexao.commit()\n",
    "print(\"Tabela criada\")"
   ]
  },
  {
   "cell_type": "code",
   "execution_count": null,
   "metadata": {},
   "outputs": [],
   "source": [
    "# Importando os Dados\n",
    "\n",
    "clientes = pd.read_csv(\"caminho/clientes.csv\")\n",
    "despesas = pd.read_csv(\"caminho/despesas.csv\")\n",
    "faturas = pd.read_csv(\"caminho/faturas.csv\")\n",
    "pagamentos = pd.read_csv(\"caminho/pagamentos.csv\")\n",
    "receitas = pd.read_csv(\"caminho/receitas.csv\")\n"
   ]
  },
  {
   "cell_type": "code",
   "execution_count": null,
   "metadata": {},
   "outputs": [],
   "source": [
    "# Inserindo Dados nas tabelas\n",
    "\n",
    "#Clientes\n",
    "dados1 = [(row['id_cliente'], row['nome'], row['email'], row['telefone'], row['empresa']) for i, row in clientes.iterrows()]\n",
    "\n",
    "insert1 = \"\"\"\n",
    "INSERT INTO dbo.Clientes (id_cliente, nome, email, telefone, empresa)\n",
    "VALUES (?, ?, ?, ?, ?)\n",
    "\"\"\"\n",
    "\n",
    "# .executemany --> Executa uma mesmo consulta várias vezes com valores diferentes em cada execução\n",
    "cursor.executemany(insert1, dados1)\n",
    "cursor.commit()"
   ]
  },
  {
   "cell_type": "code",
   "execution_count": null,
   "metadata": {},
   "outputs": [
    {
     "name": "stdout",
     "output_type": "stream",
     "text": [
      "Alterado\n",
      "Valores deletado\n"
     ]
    }
   ],
   "source": [
    "# ERROR🔺\n",
    "\n",
    "# Os valores de \"telefone\" tem mais caracteres do que a quantidade definida na criação da tabela \"Clientes\".\n",
    "# Utizando o ALTER TABLE e ALTER COLUMN para correção\n",
    "\n",
    "modific_telefone = \"\"\"\n",
    "ALTER TABLE dbo.Clientes\n",
    "ALTER COLUMN telefone NVARCHAR(30);\n",
    "\"\"\"\n",
    "cursor.execute(modific_telefone)\n",
    "cursor.commit()\n",
    "print(\"Alterado\")\n",
    "\n",
    "# Em seguida excluimos os valores que já foram importados para a tabela.\n",
    "\n",
    "deletando = \"\"\"\n",
    "DELETE FROM dbo.Clientes\n",
    "\"\"\"\n",
    "\n",
    "cursor.execute(deletando)\n",
    "cursor.commit()\n",
    "print(\"Valores deletado\")"
   ]
  },
  {
   "cell_type": "code",
   "execution_count": null,
   "metadata": {},
   "outputs": [],
   "source": [
    "# Continuação - Inserção de Dados\n",
    "\n",
    "dados2 = [(row['id_fatura'], row['id_cliente'], row['data_emissao'], row['data_vencimento'], row['valor_total'], row['status']) for i, row in faturas.iterrows()]\n",
    "\n",
    "insert2 = \"\"\"\n",
    "INSERT INTO dbo.Faturas (id_fatura, id_cliente, data_emissao, data_vencimento, valor_total, status)\n",
    "VALUES(?, ?, ?, ?, ?, ?)\n",
    "\"\"\"\n",
    "\n",
    "cursor.executemany(insert2, dados2)\n",
    "cursor.commit()\n",
    "\n",
    "\n",
    "dados3 = [(row['id_receita'], row['id_cliente'], row['descricao'], row['valor'], row['data_recebimento']) for i, row in receitas.iterrows()]\n",
    "\n",
    "insert3 = \"\"\"\n",
    "INSERT INTO dbo.Receitas (id_receita, id_cliente, descricao, valor, data_recebimento)\n",
    "VALUES(?, ?, ?, ?, ?)\n",
    "\"\"\"\n",
    "\n",
    "cursor.executemany(insert3, dados3)\n",
    "cursor.commit()\n",
    "\n",
    "\n",
    "dados4 = [(row['id_despesa'], row['categoria'], row['descricao'], row['valor'], row['data_despesa']) for i, row in despesas.iterrows()]\n",
    "\n",
    "insert4 = \"\"\"\n",
    "INSERT INTO dbo.Despesas (id_despesa, categoria, descricao, valor, data_despesa)\n",
    "VALUES(?, ?, ?, ?, ?)\n",
    "\"\"\"\n",
    "\n",
    "cursor.executemany(insert4, dados4)\n",
    "cursor.commit()\n",
    "\n",
    "\n",
    "dados5 = [(row['id_pagamento'], row['id_fatura'], row['data_pagamento'], row['valor_pago'], row['metodo_pagamento']) for i, row in pagamentos.iterrows()]\n",
    "\n",
    "insert5 = \"\"\"\n",
    "INSERT INTO dbo.Pagamentos (id_pagamento,id_fatura,data_pagamento,valor_pago,metodo_pagamento)\n",
    "VALUES(?, ?, ?, ?, ?)\n",
    "\"\"\"\n",
    "\n",
    "cursor.executemany(insert5, dados5)\n",
    "cursor.commit()"
   ]
  },
  {
   "cell_type": "code",
   "execution_count": null,
   "metadata": {},
   "outputs": [
    {
     "name": "stdout",
     "output_type": "stream",
     "text": [
      "Conexão encerrada\n"
     ]
    }
   ],
   "source": [
    "# Encerrando a conexão com o Servidor\n",
    "cursor.close()\n",
    "conexao.close()\n",
    "print(\"Conexão encerrada\")"
   ]
  }
 ],
 "metadata": {
  "kernelspec": {
   "display_name": "Python 3",
   "language": "python",
   "name": "python3"
  },
  "language_info": {
   "codemirror_mode": {
    "name": "ipython",
    "version": 3
   },
   "file_extension": ".py",
   "mimetype": "text/x-python",
   "name": "python",
   "nbconvert_exporter": "python",
   "pygments_lexer": "ipython3",
   "version": "3.12.5"
  }
 },
 "nbformat": 4,
 "nbformat_minor": 2
}
